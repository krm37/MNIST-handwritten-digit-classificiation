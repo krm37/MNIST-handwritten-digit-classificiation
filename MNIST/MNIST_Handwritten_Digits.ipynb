{
 "cells": [
  {
   "cell_type": "markdown",
   "metadata": {},
   "source": [
    "# Introduction\n",
    "\n",
    "In this project, you will build a neural network of your own design to evaluate the MNIST dataset.\n",
    "\n",
    "Some of the benchmark results on MNIST include can be found [on Yann LeCun's page](https://webcache.googleusercontent.com/search?q=cache:stAVPik6onEJ:yann.lecun.com/exdb/mnist) and include:\n",
    "\n",
    "88% [Lecun et al., 1998](https://hal.science/hal-03926082/document)\n",
    "\n",
    "95.3% [Lecun et al., 1998](https://hal.science/hal-03926082v1/document)\n",
    "\n",
    "99.65% [Ciresan et al., 2011](http://people.idsia.ch/~juergen/ijcai2011.pdf)\n",
    "\n",
    "\n",
    "MNIST is a great dataset for sanity checking your models, since the accuracy levels achieved by large convolutional neural networks and small linear models are both quite high. This makes it important to be familiar with the data.\n",
    "\n",
    "## Installation"
   ]
  },
  {
   "cell_type": "code",
   "execution_count": null,
   "metadata": {},
   "outputs": [],
   "source": [
    "# Update the PATH to include the user installation directory. \n",
    "import os\n",
    "os.environ['PATH'] = f\"{os.environ['PATH']}:/root/.local/bin\"\n",
    "\n",
    "# Restart the Kernel before you move on to the next step."
   ]
  },
  {
   "cell_type": "markdown",
   "metadata": {},
   "source": [
    "#### Important: Restart the Kernel before you move on to the next step."
   ]
  },
  {
   "cell_type": "code",
   "execution_count": null,
   "metadata": {},
   "outputs": [],
   "source": [
    "# Install requirements\n",
    "!python -m pip install -r requirements.txt"
   ]
  },
  {
   "cell_type": "markdown",
   "metadata": {},
   "source": [
    "## Imports"
   ]
  },
  {
   "cell_type": "code",
   "execution_count": 1,
   "metadata": {},
   "outputs": [
    {
     "name": "stderr",
     "output_type": "stream",
     "text": [
      "c:\\Users\\Atlas\\anaconda3\\envs\\icenv\\lib\\site-packages\\torchvision\\io\\image.py:13: UserWarning: Failed to load image Python extension: '[WinError 127] Belirtilen yordam bulunamadı'If you don't plan on using image functionality from `torchvision.io`, you can ignore this warning. Otherwise, there might be something wrong with your environment. Did you have `libjpeg` or `libpng` installed before building `torchvision` from source?\n",
      "  warn(\n"
     ]
    }
   ],
   "source": [
    "## This cell contains the essential imports you will need – DO NOT CHANGE THE CONTENTS! ##\n",
    "import torch\n",
    "import torch.nn as nn\n",
    "import torch.nn.functional as F\n",
    "import torch.optim as optim\n",
    "import torchvision\n",
    "import torchvision.transforms as transforms\n",
    "import matplotlib.pyplot as plt\n",
    "import numpy as np\n",
    "from torch.utils.data import DataLoader\n",
    "from torch.utils.data import random_split\n"
   ]
  },
  {
   "cell_type": "markdown",
   "metadata": {},
   "source": [
    "## Load the Dataset\n",
    "\n",
    "Specify your transforms as a list if you intend to .\n",
    "The transforms module is already loaded as `transforms`.\n",
    "\n",
    "MNIST is fortunately included in the torchvision module.\n",
    "Then, you can create your dataset using the `MNIST` object from `torchvision.datasets` ([the documentation is available here](https://pytorch.org/vision/stable/datasets.html#mnist)).\n",
    "Make sure to specify `download=True`! \n",
    "\n",
    "Once your dataset is created, you'll also need to define a `DataLoader` from the `torch.utils.data` module for both the train and the test set."
   ]
  },
  {
   "cell_type": "code",
   "execution_count": 2,
   "metadata": {},
   "outputs": [],
   "source": [
    "# Define transforms\n",
    "## YOUR CODE HERE ##\n",
    "train_transform=transforms.Compose([\n",
    "    transforms.ToTensor(),\n",
    "    transforms.Normalize((0.1307,), (0.3081,)),\n",
    "    transforms.RandomRotation(10),\n",
    "])\n",
    "test_transform=transforms.Compose([\n",
    "    transforms.ToTensor(),\n",
    "    transforms.Normalize((0.1307,), (0.3081,)),\n",
    "\n",
    "])\n",
    "\n",
    "\n",
    "\n",
    "# Create training set and define training dataloader\n",
    "## YOUR CODE HERE #\n",
    "data=torchvision.datasets.MNIST(root='./data',download=True,train=True,transform=train_transform)\n",
    "\n",
    "train_size = int(0.8 * len(data))\n",
    "valid_size = len(data) - train_size \n",
    "data_train, data_valid = random_split(data, [train_size, valid_size],generator=torch.Generator().manual_seed(37))\n",
    "\n",
    "train_loader=DataLoader(data_train,batch_size=128,shuffle=True)\n",
    "valid_loader=DataLoader(data_valid,batch_size=128,shuffle=True)\n",
    "\n",
    "# Create test set and define test dataloader\n",
    "data_test=torchvision.datasets.MNIST(root='./data',download=True,train=False,transform=test_transform)\n",
    "test_loader=DataLoader(data_test,batch_size=128,shuffle=True)\n",
    "\n",
    "## YOUR CODE HERE ##"
   ]
  },
  {
   "cell_type": "markdown",
   "metadata": {},
   "source": [
    "## Justify your preprocessing\n",
    "\n",
    "In your own words, why did you choose the transforms you chose? If you didn't use any preprocessing steps, why not?"
   ]
  },
  {
   "cell_type": "markdown",
   "metadata": {},
   "source": [
    "1. We extract the pixel values ​​into tensor format using Torch.ToTensor. Pytorch expects inputs as tensor. \n",
    "2. By performing z score normalization, we update the pixels according to how standard deviation each pixel is from the mean. In this way, the effect of outliers is reduced since all pixel values ​​are scaled according to the standard deviation. In this way, two images with different color changes are less likely to be detected incorrectly. \n",
    "\n",
    "3. By giving random rotation, we prevent the training data set from focusing on only certain pixels, so it can detect different types of images better."
   ]
  },
  {
   "cell_type": "markdown",
   "metadata": {},
   "source": [
    "## Explore the Dataset\n",
    "Using matplotlib, numpy, and torch, explore the dimensions of your data.\n",
    "\n",
    "You can view images using the `show5` function defined below – it takes a data loader as an argument.\n",
    "Remember that normalized images will look really weird to you! You may want to try changing your transforms to view images.\n",
    "Typically using no transforms other than `toTensor()` works well for viewing – but not as well for training your network.\n",
    "If `show5` doesn't work, go back and check your code for creating your data loaders and your training/test sets."
   ]
  },
  {
   "cell_type": "code",
   "execution_count": 3,
   "metadata": {},
   "outputs": [],
   "source": [
    "## This cell contains a function for showing 5 images from a dataloader – DO NOT CHANGE THE CONTENTS! ##\n",
    "def show5(img_loader):\n",
    "    dataiter = iter(img_loader)\n",
    "    \n",
    "    batch = next(dataiter)\n",
    "    labels = batch[1][0:5]\n",
    "    images = batch[0][0:5]\n",
    "    for i in range(5):\n",
    "        print(int(labels[i].detach()))\n",
    "    \n",
    "        image = images[i].numpy()\n",
    "        plt.imshow(image.T.squeeze().T)\n",
    "        plt.show()"
   ]
  },
  {
   "cell_type": "code",
   "execution_count": 4,
   "metadata": {
    "scrolled": true
   },
   "outputs": [
    {
     "name": "stdout",
     "output_type": "stream",
     "text": [
      "8\n"
     ]
    },
    {
     "data": {
      "image/png": "[encoded data removed]",
      "text/plain": [
       "<Figure size 640x480 with 1 Axes>"
      ]
     },
     "metadata": {},
     "output_type": "display_data"
    },
    {
     "name": "stdout",
     "output_type": "stream",
     "text": [
      "2\n"
     ]
    },
    {
     "data": {
      "image/png": "[encoded data removed]",
      "text/plain": [
       "<Figure size 640x480 with 1 Axes>"
      ]
     },
     "metadata": {},
     "output_type": "display_data"
    },
    {
     "name": "stdout",
     "output_type": "stream",
     "text": [
      "9\n"
     ]
    },
    {
     "data": {
      "image/png": "[encoded data removed]",
      "text/plain": [
       "<Figure size 640x480 with 1 Axes>"
      ]
     },
     "metadata": {},
     "output_type": "display_data"
    },
    {
     "name": "stdout",
     "output_type": "stream",
     "text": [
      "9\n"
     ]
    },
    {
     "data": {
      "image/png": "[encoded data removed]",
      "text/plain": [
       "<Figure size 640x480 with 1 Axes>"
      ]
     },
     "metadata": {},
     "output_type": "display_data"
    },
    {
     "name": "stdout",
     "output_type": "stream",
     "text": [
      "7\n"
     ]
    },
    {
     "data": {
      "image/png": "[encoded data removed]",
      "text/plain": [
       "<Figure size 640x480 with 1 Axes>"
      ]
     },
     "metadata": {},
     "output_type": "display_data"
    }
   ],
   "source": [
    "# Explore data\n",
    "show5(test_loader)\n",
    "## YOUR CODE HERE ##"
   ]
  },
  {
   "cell_type": "markdown",
   "metadata": {},
   "source": [
    "## Build your Neural Network\n",
    "Using the layers in `torch.nn` (which has been imported as `nn`) and the `torch.nn.functional` module (imported as `F`), construct a neural network based on the parameters of the dataset.\n",
    "Use any architecture you like. \n",
    "\n",
    "*Note*: If you did not flatten your tensors in your transforms or as part of your preprocessing and you are using only `Linear` layers, make sure to use the `Flatten` layer in your network!"
   ]
  },
  {
   "cell_type": "code",
   "execution_count": 5,
   "metadata": {},
   "outputs": [],
   "source": [
    "input_size=784\n",
    "hidden_sizes=[512,128]\n",
    "output_size=10"
   ]
  },
  {
   "cell_type": "code",
   "execution_count": 6,
   "metadata": {},
   "outputs": [],
   "source": [
    "## YOUR CODE HERE ##\n",
    "class Model(nn.Module):\n",
    "    def __init__(self,input_size,hidden_sizes,output_size):\n",
    "        super(Model,self).__init__()\n",
    "        self.fc1=torch.nn.Linear(input_size,hidden_sizes[0])\n",
    "        self.fc2=torch.nn.Linear(hidden_sizes[0],hidden_sizes[1])\n",
    "        self.fc3=torch.nn.Linear(hidden_sizes[1],output_size)\n",
    "    \n",
    "    def forward(self,x):\n",
    "        x=x.view(-1,28*28)\n",
    "        x=F.relu(self.fc1(x))\n",
    "        x=F.relu(self.fc2(x))\n",
    "        x=F.log_softmax(self.fc3(x),dim=1)\n",
    "        return x\n",
    "        "
   ]
  },
  {
   "cell_type": "markdown",
   "metadata": {},
   "source": [
    "Specify a loss function and an optimizer, and instantiate the model.\n",
    "\n",
    "If you use a less common loss function, please note why you chose that loss function in a comment."
   ]
  },
  {
   "cell_type": "code",
   "execution_count": 8,
   "metadata": {},
   "outputs": [],
   "source": [
    "model=Model(input_size,hidden_sizes,output_size)"
   ]
  },
  {
   "cell_type": "code",
   "execution_count": 9,
   "metadata": {},
   "outputs": [],
   "source": [
    "## YOUR CODE HERE ##\n",
    "optimizer=torch.optim.Adam(model.parameters(),lr=0.05)\n",
    "criterion=torch.nn.NLLLoss()"
   ]
  },
  {
   "cell_type": "markdown",
   "metadata": {},
   "source": [
    "## Running your Neural Network\n",
    "Use whatever method you like to train your neural network, and ensure you record the average loss at each epoch. \n",
    "Don't forget to use `torch.device()` and the `.to()` method for both your model and your data if you are using GPU!\n",
    "\n",
    "If you want to print your loss **during** each epoch, you can use the `enumerate` function and print the loss after a set number of batches. 250 batches works well for most people!"
   ]
  },
  {
   "cell_type": "code",
   "execution_count": 10,
   "metadata": {},
   "outputs": [],
   "source": [
    "def train_model(model, criterion, optimizer, epochs, train_loader, valid_loader, device):\n",
    "    \n",
    "    model.to(device)\n",
    "    train_losses = []\n",
    "    valid_losses = []\n",
    "    for epoch in range(epochs):\n",
    "        model.train()\n",
    "        running_train_loss = 0.0\n",
    "        for images, labels in train_loader:\n",
    "            images, labels = images.to(device), labels.to(device)\n",
    "            optimizer.zero_grad()\n",
    "            outputs = model.forward(images)\n",
    "            loss = criterion(outputs, labels)\n",
    "            loss.backward()\n",
    "            optimizer.step()\n",
    "            running_train_loss += loss.item()\n",
    "\n",
    "        model.eval()\n",
    "        running_valid_loss = 0.0\n",
    "        accuracy = 0.0\n",
    "        with torch.no_grad():\n",
    "            for images, labels in valid_loader:\n",
    "                images, labels = images.to(device), labels.to(device)\n",
    "                outputs = model.forward(images)\n",
    "                valid_loss = criterion(outputs, labels)\n",
    "                running_valid_loss += valid_loss.item()\n",
    "\n",
    "                ps = torch.exp(outputs)\n",
    "                top_p, top_class = ps.topk(1, dim=1)\n",
    "                equals = top_class == labels.view(*top_class.shape)\n",
    "                accuracy += torch.mean(equals.type(torch.FloatTensor)).item()\n",
    "        \n",
    "        train_loss = running_train_loss / len(train_loader)\n",
    "        valid_loss = running_valid_loss / len(valid_loader)\n",
    "        accuracy = accuracy / len(valid_loader)\n",
    "\n",
    "        train_losses.append(train_loss)\n",
    "        valid_losses.append(valid_loss)\n",
    "\n",
    "        print(f\"Epoch {epoch+1}/{epochs}.. \"\n",
    "              f\"Train loss: {train_loss:.3f}.. \"\n",
    "              f\"Valid loss: {valid_loss:.3f}.. \"\n",
    "              f\"Valid accuracy: {accuracy:.3f}\")\n",
    "\n",
    "    return model, optimizer.state_dict(), train_losses, valid_losses\n"
   ]
  },
  {
   "cell_type": "code",
   "execution_count": 11,
   "metadata": {},
   "outputs": [
    {
     "name": "stdout",
     "output_type": "stream",
     "text": [
      "Epoch 1/10.. Train loss: 2.058.. Valid loss: 1.050.. Valid accuracy: 0.677\n",
      "Epoch 2/10.. Train loss: 0.800.. Valid loss: 0.862.. Valid accuracy: 0.700\n",
      "Epoch 3/10.. Train loss: 0.733.. Valid loss: 0.681.. Valid accuracy: 0.747\n",
      "Epoch 4/10.. Train loss: 0.777.. Valid loss: 0.858.. Valid accuracy: 0.691\n",
      "Epoch 5/10.. Train loss: 0.758.. Valid loss: 0.746.. Valid accuracy: 0.743\n",
      "Epoch 6/10.. Train loss: 0.713.. Valid loss: 0.728.. Valid accuracy: 0.739\n",
      "Epoch 7/10.. Train loss: 0.736.. Valid loss: 0.779.. Valid accuracy: 0.754\n",
      "Epoch 8/10.. Train loss: 0.755.. Valid loss: 0.721.. Valid accuracy: 0.757\n",
      "Epoch 9/10.. Train loss: 0.797.. Valid loss: 0.836.. Valid accuracy: 0.749\n",
      "Epoch 10/10.. Train loss: 0.771.. Valid loss: 0.817.. Valid accuracy: 0.750\n"
     ]
    }
   ],
   "source": [
    "device=\"cuda\"\n",
    "model,optimizer_dict,train_losses,valid_losses=train_model(model,criterion,optimizer,10,train_loader,valid_loader,device)"
   ]
  },
  {
   "cell_type": "code",
   "execution_count": 12,
   "metadata": {},
   "outputs": [],
   "source": [
    "def plot_loss(train_loss,valid_loss,title):\n",
    "    epochs = range(1, len(train_loss) + 1)\n",
    "    \n",
    "    plt.figure(figsize=(9,4))\n",
    "    plt.plot(epochs, train_loss, label='Train Loss')\n",
    "    plt.plot(epochs, valid_loss, label='Validation Loss')\n",
    "    \n",
    "    plt.xlabel('Epochs')\n",
    "    plt.ylabel('Loss')\n",
    "    plt.title(title)\n",
    "    plt.legend()\n",
    "    plt.show()\n"
   ]
  },
  {
   "cell_type": "code",
   "execution_count": 13,
   "metadata": {},
   "outputs": [
    {
     "data": {
      "image/png": "[encoded data removed]",
      "text/plain": [
       "<Figure size 900x400 with 1 Axes>"
      ]
     },
     "metadata": {},
     "output_type": "display_data"
    }
   ],
   "source": [
    "plot_loss(train_losses,valid_losses,title=\"Training and Validation Loss Over Epochs\")"
   ]
  },
  {
   "cell_type": "markdown",
   "metadata": {},
   "source": [
    "## Testing your model\n",
    "Using the previously created `DataLoader` for the test set, compute the percentage of correct predictions using the highest probability prediction. \n",
    "\n",
    "If your accuracy is over 90%, great work, but see if you can push a bit further! \n",
    "If your accuracy is under 90%, you'll need to make improvements.\n",
    "Go back and check your model architecture, loss function, and optimizer to make sure they're appropriate for an image classification task."
   ]
  },
  {
   "cell_type": "code",
   "execution_count": 14,
   "metadata": {},
   "outputs": [],
   "source": [
    "def evaluate_model(model, criterion, test_loader, device):\n",
    "    model.eval()\n",
    "    test_loss = 0.0\n",
    "    accuracy=0\n",
    "    with torch.no_grad():\n",
    "        for images, labels in test_loader:\n",
    "            images, labels = images.to(device), labels.to(device)\n",
    "            outputs = model(images)\n",
    "            loss = criterion(outputs, labels)\n",
    "            test_loss += loss.item()\n",
    "\n",
    "            ps = torch.exp(outputs)\n",
    "            top_p, top_class = ps.topk(1, dim=1)\n",
    "            equals = top_class == labels.view(*top_class.shape)\n",
    "            accuracy += torch.mean(equals.type(torch.FloatTensor)).item()\n",
    "\n",
    "    test_loss = test_loss / len(test_loader)\n",
    "    accuracy = accuracy / len(test_loader)\n",
    "\n",
    "    print(f\"Test loss: {test_loss:.3f}.. \"\n",
    "          f\"Test accuracy: {accuracy:.3f}\")\n",
    "\n",
    "    return test_loss, accuracy"
   ]
  },
  {
   "cell_type": "code",
   "execution_count": 15,
   "metadata": {},
   "outputs": [
    {
     "name": "stdout",
     "output_type": "stream",
     "text": [
      "Test loss: 0.705.. Test accuracy: 0.765\n"
     ]
    },
    {
     "data": {
      "text/plain": [
       "(0.7047516609294505, 0.7648338607594937)"
      ]
     },
     "execution_count": 15,
     "metadata": {},
     "output_type": "execute_result"
    }
   ],
   "source": [
    "evaluate_model(model,criterion,test_loader,device)"
   ]
  },
  {
   "cell_type": "markdown",
   "metadata": {},
   "source": [
    "## Improving your model\n",
    "\n",
    "Once your model is done training, try tweaking your hyperparameters and training again below to improve your accuracy on the test set!"
   ]
  },
  {
   "cell_type": "code",
   "execution_count": 18,
   "metadata": {},
   "outputs": [],
   "source": [
    "optimizer=torch.optim.Adam(model.parameters(),lr=0.005,betas=(0.95,0.999))\n"
   ]
  },
  {
   "cell_type": "code",
   "execution_count": 19,
   "metadata": {},
   "outputs": [
    {
     "name": "stdout",
     "output_type": "stream",
     "text": [
      "Epoch 1/15.. Train loss: 0.659.. Valid loss: 0.637.. Valid accuracy: 0.769\n",
      "Epoch 2/15.. Train loss: 0.613.. Valid loss: 0.616.. Valid accuracy: 0.782\n",
      "Epoch 3/15.. Train loss: 0.600.. Valid loss: 0.599.. Valid accuracy: 0.790\n",
      "Epoch 4/15.. Train loss: 0.579.. Valid loss: 0.575.. Valid accuracy: 0.802\n",
      "Epoch 5/15.. Train loss: 0.566.. Valid loss: 0.568.. Valid accuracy: 0.805\n",
      "Epoch 6/15.. Train loss: 0.554.. Valid loss: 0.570.. Valid accuracy: 0.812\n",
      "Epoch 7/15.. Train loss: 0.539.. Valid loss: 0.540.. Valid accuracy: 0.823\n",
      "Epoch 8/15.. Train loss: 0.517.. Valid loss: 0.531.. Valid accuracy: 0.830\n",
      "Epoch 9/15.. Train loss: 0.510.. Valid loss: 0.524.. Valid accuracy: 0.841\n",
      "Epoch 10/15.. Train loss: 0.502.. Valid loss: 0.521.. Valid accuracy: 0.845\n",
      "Epoch 11/15.. Train loss: 0.493.. Valid loss: 0.518.. Valid accuracy: 0.848\n",
      "Epoch 12/15.. Train loss: 0.485.. Valid loss: 0.490.. Valid accuracy: 0.850\n",
      "Epoch 13/15.. Train loss: 0.481.. Valid loss: 0.501.. Valid accuracy: 0.844\n",
      "Epoch 14/15.. Train loss: 0.471.. Valid loss: 0.485.. Valid accuracy: 0.852\n",
      "Epoch 15/15.. Train loss: 0.469.. Valid loss: 0.485.. Valid accuracy: 0.855\n"
     ]
    }
   ],
   "source": [
    "## YOUR CODE HERE ##\n",
    "model,optimizer_dict,train_losses,valid_losses=train_model(model, criterion, optimizer, 15, train_loader, valid_loader, device)"
   ]
  },
  {
   "cell_type": "code",
   "execution_count": 20,
   "metadata": {},
   "outputs": [
    {
     "name": "stdout",
     "output_type": "stream",
     "text": [
      "Test loss: 0.434.. Test accuracy: 0.869\n"
     ]
    },
    {
     "data": {
      "text/plain": [
       "(0.43379914817176285, 0.8689675632911392)"
      ]
     },
     "execution_count": 20,
     "metadata": {},
     "output_type": "execute_result"
    }
   ],
   "source": [
    "evaluate_model(model,criterion,test_loader,device)"
   ]
  },
  {
   "cell_type": "markdown",
   "metadata": {},
   "source": [
    "## Saving your model\n",
    "Using `torch.save`, save your model for future loading."
   ]
  },
  {
   "cell_type": "code",
   "execution_count": 21,
   "metadata": {},
   "outputs": [],
   "source": [
    "## YOUR CODE HERE ##\n",
    "epochs=len(train_losses)\n",
    "checkpoint={\n",
    "    \"model\":model.state_dict(),\n",
    "    \"criterion\":criterion,\n",
    "    \"optimizer_state_dict\":optimizer_dict,\n",
    "    \"num_epochs\":epochs,\n",
    "    \"input_layer\":input_size,\n",
    "    \"hidden_layers\":(hidden_sizes[0],hidden_sizes[1]),\n",
    "    \"output_layer\":output_size\n",
    "}"
   ]
  },
  {
   "cell_type": "code",
   "execution_count": 23,
   "metadata": {},
   "outputs": [],
   "source": [
    "torch.save(checkpoint,\"checkpoint.pth\")"
   ]
  },
  {
   "cell_type": "code",
   "execution_count": null,
   "metadata": {},
   "outputs": [],
   "source": []
  }
 ],
 "metadata": {
  "kernelspec": {
   "display_name": "Python 3",
   "language": "python",
   "name": "python3"
  },
  "language_info": {
   "codemirror_mode": {
    "name": "ipython",
    "version": 3
   },
   "file_extension": ".py",
   "mimetype": "text/x-python",
   "name": "python",
   "nbconvert_exporter": "python",
   "pygments_lexer": "ipython3",
   "version": "3.9.18"
  }
 },
 "nbformat": 4,
 "nbformat_minor": 4
}
